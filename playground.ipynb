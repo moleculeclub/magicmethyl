{
 "cells": [
  {
   "cell_type": "code",
   "execution_count": 3,
   "metadata": {},
   "outputs": [],
   "source": [
    "from rdkit import Chem\n",
    "from rdkit.Chem.Draw import IPythonConsole\n",
    "IPythonConsole.drawOptions.addAtomIndices = True\n",
    "IPythonConsole.drawOptions.annotationFontScale = 0.8\n",
    "\n",
    "from magicmethyl.magicmethyl import methylate\n",
    "from magicmethyl import utils"
   ]
  },
  {
   "cell_type": "code",
   "execution_count": 5,
   "metadata": {},
   "outputs": [
    {
     "data": {
      "image/png": "[encoded data removed]",
      "text/plain": [
       "<rdkit.Chem.rdchem.Mol at 0x11098f5e0>"
      ]
     },
     "metadata": {},
     "output_type": "display_data"
    },
    {
     "name": "stdout",
     "output_type": "stream",
     "text": [
      "Conformer 0 failed to converge.\n",
      "Conformer 3 failed to converge.\n",
      "Conformer 6 failed to converge.\n",
      "Conformer 8 failed to converge.\n",
      "Conformer 14 failed to converge.\n",
      "Conformer 15 failed to converge.\n"
     ]
    },
    {
     "data": {
      "application/3dmoljs_load.v0": "<div id=\"3dmolviewer_16524174369029279\"  style=\"position: relative; width: 640px; height: 480px\">\n        <p id=\"3dmolwarning_16524174369029279\" style=\"background-color:#ffcccc;color:black\">You appear to be running in JupyterLab (or JavaScript failed to load for some other reason).  You need to install the 3dmol extension: <br>\n        <tt>jupyter labextension install jupyterlab_3dmol</tt></p>\n        </div>\n<script>\n\nvar loadScriptAsync = function(uri){\n  return new Promise((resolve, reject) => {\n    var tag = document.createElement('script');\n    tag.src = uri;\n    tag.async = true;\n    tag.onload = () => {\n      resolve();\n    };\n  var firstScriptTag = document.getElementsByTagName('script')[0];\n  firstScriptTag.parentNode.insertBefore(tag, firstScriptTag);\n});\n};\n\nif(typeof $3Dmolpromise === 'undefined') {\n$3Dmolpromise = null;\n  $3Dmolpromise = loadScriptAsync('https://3dmol.org/build/3Dmol.js');\n}\n\nvar viewer_16524174369029279 = null;\nvar warn = document.getElementById(\"3dmolwarning_16524174369029279\");\nif(warn) {\n    warn.parentNode.removeChild(warn);\n}\n$3Dmolpromise.then(function() {\nviewer_16524174369029279 = $3Dmol.createViewer($(\"#3dmolviewer_16524174369029279\"),{backgroundColor:\"white\"});\nviewer_16524174369029279.addModel(\"\\n     RDKit          3D\\n\\n 33 37  0  0  0  0  0  0  0  0999 V2000\\n   -0.4399   -1.9727    2.8733 C   0  0  0  0  0  0  0  0  0  0  0  0\\n    0.7412   -1.1035    2.4729 C   0  0  0  0  0  0  0  0  0  0  0  0\\n    0.8245   -0.8096    0.9577 C   0  0  0  0  0  0  0  0  0  0  0  0\\n   -0.3106    0.1885    0.5544 C   0  0  0  0  0  0  0  0  0  0  0  0\\n   -0.0590    1.4445    0.8071 N   0  0  0  0  0  0  0  0  0  0  0  0\\n   -1.0537    2.3972    0.5892 C   0  0  0  0  0  0  0  0  0  0  0  0\\n   -2.3410    2.0531    0.1956 C   0  0  0  0  0  0  0  0  0  0  0  0\\n   -3.3044    3.0490    0.0239 C   0  0  0  0  0  0  0  0  0  0  0  0\\n   -2.9894    4.3886    0.2429 C   0  0  0  0  0  0  0  0  0  0  0  0\\n   -1.7018    4.7399    0.6365 C   0  0  0  0  0  0  0  0  0  0  0  0\\n   -0.7397    3.7438    0.8100 C   0  0  0  0  0  0  0  0  0  0  0  0\\n   -4.5559    2.7598   -0.3575 F   0  0  0  0  0  0  0  0  0  0  0  0\\n   -2.6241    0.6296   -0.0478 C   0  0  0  0  0  0  0  0  0  0  0  0\\n   -3.7659    0.3037   -0.3642 O   0  0  0  0  0  0  0  0  0  0  0  0\\n   -1.5380   -0.2565    0.0781 N   0  0  0  0  0  0  0  0  0  0  0  0\\n   -1.7570   -1.6105   -0.3335 C   0  0  0  0  0  0  0  0  0  0  0  0\\n   -0.9304   -2.2055   -1.2941 C   0  0  0  0  0  0  0  0  0  0  0  0\\n   -1.1453   -3.5234   -1.7047 C   0  0  0  0  0  0  0  0  0  0  0  0\\n   -2.2042   -4.2554   -1.1737 C   0  0  0  0  0  0  0  0  0  0  0  0\\n   -3.0564   -3.6658   -0.2437 C   0  0  0  0  0  0  0  0  0  0  0  0\\n   -2.8399   -2.3480    0.1667 C   0  0  0  0  0  0  0  0  0  0  0  0\\n    2.1257   -0.1343    0.7412 N   0  0  0  0  0  0  0  0  0  0  0  0\\n    2.6667   -0.2041   -0.5380 C   0  0  0  0  0  0  0  0  0  0  0  0\\n    2.3520   -1.1967   -1.3953 N   0  0  0  0  0  0  0  0  0  0  0  0\\n    2.9319   -1.2175   -2.6160 C   0  0  0  0  0  0  0  0  0  0  0  0\\n    3.8074   -0.3484   -3.1313 N   0  0  0  0  0  0  0  0  0  0  0  0\\n    4.1241    0.6289   -2.2659 C   0  0  0  0  0  0  0  0  0  0  0  0\\n    3.5891    0.7224   -0.9946 C   0  0  0  0  0  0  0  0  0  0  0  0\\n    4.1923    1.8231   -0.4508 N   0  0  0  0  0  0  0  0  0  0  0  0\\n    5.0290    2.3485   -1.3964 C   0  0  0  0  0  0  0  0  0  0  0  0\\n    5.0055    1.6488   -2.5086 N   0  0  0  0  0  0  0  0  0  0  0  0\\n    2.0566    0.8327    1.0538 H   0  0  0  0  0  0  0  0  0  0  0  0\\n    4.0582    2.1716    0.4873 H   0  0  0  0  0  0  0  0  0  0  0  0\\n  1  2  1  0\\n  3  2  1  1\\n  3  4  1  0\\n  4  5  2  0\\n  5  6  1  0\\n  6  7  2  0\\n  7  8  1  0\\n  8  9  2  0\\n  9 10  1  0\\n 10 11  2  0\\n  8 12  1  0\\n  7 13  1  0\\n 13 14  2  0\\n 13 15  1  0\\n 15 16  1  0\\n 16 17  2  0\\n 17 18  1  0\\n 18 19  2  0\\n 19 20  1  0\\n 20 21  2  0\\n  3 22  1  0\\n 22 23  1  0\\n 23 24  2  0\\n 24 25  1  0\\n 25 26  2  0\\n 26 27  1  0\\n 27 28  2  0\\n 28 29  1  0\\n 29 30  1  0\\n 30 31  2  0\\n 15  4  1  0\\n 11  6  1  0\\n 21 16  1  0\\n 28 23  1  0\\n 31 27  1  0\\n 22 32  1  0\\n 29 33  1  0\\nM  END\\n\");\nviewer_16524174369029279.setStyle({\"stick\": {\"colorscheme\": \"grayCarbon\"}});\nviewer_16524174369029279.zoomTo();\nviewer_16524174369029279.render();\n});\n</script>",
      "text/html": [
       "<div id=\"3dmolviewer_16524174369029279\"  style=\"position: relative; width: 640px; height: 480px\">\n",
       "        <p id=\"3dmolwarning_16524174369029279\" style=\"background-color:#ffcccc;color:black\">You appear to be running in JupyterLab (or JavaScript failed to load for some other reason).  You need to install the 3dmol extension: <br>\n",
       "        <tt>jupyter labextension install jupyterlab_3dmol</tt></p>\n",
       "        </div>\n",
       "<script>\n",
       "\n",
       "var loadScriptAsync = function(uri){\n",
       "  return new Promise((resolve, reject) => {\n",
       "    var tag = document.createElement('script');\n",
       "    tag.src = uri;\n",
       "    tag.async = true;\n",
       "    tag.onload = () => {\n",
       "      resolve();\n",
       "    };\n",
       "  var firstScriptTag = document.getElementsByTagName('script')[0];\n",
       "  firstScriptTag.parentNode.insertBefore(tag, firstScriptTag);\n",
       "});\n",
       "};\n",
       "\n",
       "if(typeof $3Dmolpromise === 'undefined') {\n",
       "$3Dmolpromise = null;\n",
       "  $3Dmolpromise = loadScriptAsync('https://3dmol.org/build/3Dmol.js');\n",
       "}\n",
       "\n",
       "var viewer_16524174369029279 = null;\n",
       "var warn = document.getElementById(\"3dmolwarning_16524174369029279\");\n",
       "if(warn) {\n",
       "    warn.parentNode.removeChild(warn);\n",
       "}\n",
       "$3Dmolpromise.then(function() {\n",
       "viewer_16524174369029279 = $3Dmol.createViewer($(\"#3dmolviewer_16524174369029279\"),{backgroundColor:\"white\"});\n",
       "viewer_16524174369029279.addModel(\"\\n     RDKit          3D\\n\\n 33 37  0  0  0  0  0  0  0  0999 V2000\\n   -0.4399   -1.9727    2.8733 C   0  0  0  0  0  0  0  0  0  0  0  0\\n    0.7412   -1.1035    2.4729 C   0  0  0  0  0  0  0  0  0  0  0  0\\n    0.8245   -0.8096    0.9577 C   0  0  0  0  0  0  0  0  0  0  0  0\\n   -0.3106    0.1885    0.5544 C   0  0  0  0  0  0  0  0  0  0  0  0\\n   -0.0590    1.4445    0.8071 N   0  0  0  0  0  0  0  0  0  0  0  0\\n   -1.0537    2.3972    0.5892 C   0  0  0  0  0  0  0  0  0  0  0  0\\n   -2.3410    2.0531    0.1956 C   0  0  0  0  0  0  0  0  0  0  0  0\\n   -3.3044    3.0490    0.0239 C   0  0  0  0  0  0  0  0  0  0  0  0\\n   -2.9894    4.3886    0.2429 C   0  0  0  0  0  0  0  0  0  0  0  0\\n   -1.7018    4.7399    0.6365 C   0  0  0  0  0  0  0  0  0  0  0  0\\n   -0.7397    3.7438    0.8100 C   0  0  0  0  0  0  0  0  0  0  0  0\\n   -4.5559    2.7598   -0.3575 F   0  0  0  0  0  0  0  0  0  0  0  0\\n   -2.6241    0.6296   -0.0478 C   0  0  0  0  0  0  0  0  0  0  0  0\\n   -3.7659    0.3037   -0.3642 O   0  0  0  0  0  0  0  0  0  0  0  0\\n   -1.5380   -0.2565    0.0781 N   0  0  0  0  0  0  0  0  0  0  0  0\\n   -1.7570   -1.6105   -0.3335 C   0  0  0  0  0  0  0  0  0  0  0  0\\n   -0.9304   -2.2055   -1.2941 C   0  0  0  0  0  0  0  0  0  0  0  0\\n   -1.1453   -3.5234   -1.7047 C   0  0  0  0  0  0  0  0  0  0  0  0\\n   -2.2042   -4.2554   -1.1737 C   0  0  0  0  0  0  0  0  0  0  0  0\\n   -3.0564   -3.6658   -0.2437 C   0  0  0  0  0  0  0  0  0  0  0  0\\n   -2.8399   -2.3480    0.1667 C   0  0  0  0  0  0  0  0  0  0  0  0\\n    2.1257   -0.1343    0.7412 N   0  0  0  0  0  0  0  0  0  0  0  0\\n    2.6667   -0.2041   -0.5380 C   0  0  0  0  0  0  0  0  0  0  0  0\\n    2.3520   -1.1967   -1.3953 N   0  0  0  0  0  0  0  0  0  0  0  0\\n    2.9319   -1.2175   -2.6160 C   0  0  0  0  0  0  0  0  0  0  0  0\\n    3.8074   -0.3484   -3.1313 N   0  0  0  0  0  0  0  0  0  0  0  0\\n    4.1241    0.6289   -2.2659 C   0  0  0  0  0  0  0  0  0  0  0  0\\n    3.5891    0.7224   -0.9946 C   0  0  0  0  0  0  0  0  0  0  0  0\\n    4.1923    1.8231   -0.4508 N   0  0  0  0  0  0  0  0  0  0  0  0\\n    5.0290    2.3485   -1.3964 C   0  0  0  0  0  0  0  0  0  0  0  0\\n    5.0055    1.6488   -2.5086 N   0  0  0  0  0  0  0  0  0  0  0  0\\n    2.0566    0.8327    1.0538 H   0  0  0  0  0  0  0  0  0  0  0  0\\n    4.0582    2.1716    0.4873 H   0  0  0  0  0  0  0  0  0  0  0  0\\n  1  2  1  0\\n  3  2  1  1\\n  3  4  1  0\\n  4  5  2  0\\n  5  6  1  0\\n  6  7  2  0\\n  7  8  1  0\\n  8  9  2  0\\n  9 10  1  0\\n 10 11  2  0\\n  8 12  1  0\\n  7 13  1  0\\n 13 14  2  0\\n 13 15  1  0\\n 15 16  1  0\\n 16 17  2  0\\n 17 18  1  0\\n 18 19  2  0\\n 19 20  1  0\\n 20 21  2  0\\n  3 22  1  0\\n 22 23  1  0\\n 23 24  2  0\\n 24 25  1  0\\n 25 26  2  0\\n 26 27  1  0\\n 27 28  2  0\\n 28 29  1  0\\n 29 30  1  0\\n 30 31  2  0\\n 15  4  1  0\\n 11  6  1  0\\n 21 16  1  0\\n 28 23  1  0\\n 31 27  1  0\\n 22 32  1  0\\n 29 33  1  0\\nM  END\\n\");\n",
       "viewer_16524174369029279.setStyle({\"stick\": {\"colorscheme\": \"grayCarbon\"}});\n",
       "viewer_16524174369029279.zoomTo();\n",
       "viewer_16524174369029279.render();\n",
       "});\n",
       "</script>"
      ]
     },
     "metadata": {},
     "output_type": "display_data"
    },
    {
     "data": {
      "application/3dmoljs_load.v0": "<div id=\"3dmolviewer_1652417439633506\"  style=\"position: relative; width: 640px; height: 480px\">\n        <p id=\"3dmolwarning_1652417439633506\" style=\"background-color:#ffcccc;color:black\">You appear to be running in JupyterLab (or JavaScript failed to load for some other reason).  You need to install the 3dmol extension: <br>\n        <tt>jupyter labextension install jupyterlab_3dmol</tt></p>\n        </div>\n<script>\n\nvar loadScriptAsync = function(uri){\n  return new Promise((resolve, reject) => {\n    var tag = document.createElement('script');\n    tag.src = uri;\n    tag.async = true;\n    tag.onload = () => {\n      resolve();\n    };\n  var firstScriptTag = document.getElementsByTagName('script')[0];\n  firstScriptTag.parentNode.insertBefore(tag, firstScriptTag);\n});\n};\n\nif(typeof $3Dmolpromise === 'undefined') {\n$3Dmolpromise = null;\n  $3Dmolpromise = loadScriptAsync('https://3dmol.org/build/3Dmol.js');\n}\n\nvar viewer_1652417439633506 = null;\nvar warn = document.getElementById(\"3dmolwarning_1652417439633506\");\nif(warn) {\n    warn.parentNode.removeChild(warn);\n}\n$3Dmolpromise.then(function() {\nviewer_1652417439633506 = $3Dmol.createViewer($(\"#3dmolviewer_1652417439633506\"),{backgroundColor:\"white\"});\nviewer_1652417439633506.addModel(\"\\n     RDKit          3D\\n\\n 33 37  0  0  0  0  0  0  0  0999 V2000\\n   -0.4995   -1.8559    2.9466 C   0  0  0  0  0  0  0  0  0  0  0  0\\n    0.7598   -1.1187    2.5133 C   0  0  0  0  0  0  0  0  0  0  0  0\\n    0.7969   -0.8262    1.0066 C   0  0  0  0  0  0  0  0  0  0  0  0\\n   -0.3090    0.1330    0.6137 C   0  0  0  0  0  0  0  0  0  0  0  0\\n   -0.1001    1.3688    0.9073 N   0  0  0  0  0  0  0  0  0  0  0  0\\n   -1.0354    2.3086    0.5912 C   0  0  0  0  0  0  0  0  0  0  0  0\\n   -2.2291    1.9466   -0.0660 C   0  0  0  0  0  0  0  0  0  0  0  0\\n   -3.1445    2.9622   -0.3630 C   0  0  0  0  0  0  0  0  0  0  0  0\\n   -2.9097    4.2759   -0.0292 C   0  0  0  0  0  0  0  0  0  0  0  0\\n   -1.7244    4.6113    0.6225 C   0  0  0  0  0  0  0  0  0  0  0  0\\n   -0.7959    3.6455    0.9309 C   0  0  0  0  0  0  0  0  0  0  0  0\\n   -4.3040    2.6614   -0.9909 F   0  0  0  0  0  0  0  0  0  0  0  0\\n   -2.4577    0.5499   -0.4077 C   0  0  0  0  0  0  0  0  0  0  0  0\\n   -3.4356    0.1169   -0.9980 O   0  0  0  0  0  0  0  0  0  0  0  0\\n   -1.4400   -0.3187   -0.0017 N   0  0  0  0  0  0  0  0  0  0  0  0\\n   -1.6575   -1.7021   -0.3142 C   0  0  0  0  0  0  0  0  0  0  0  0\\n   -0.9255   -2.3079   -1.3248 C   0  0  0  0  0  0  0  0  0  0  0  0\\n   -1.1685   -3.6349   -1.6349 C   0  0  0  0  0  0  0  0  0  0  0  0\\n   -2.1430   -4.3447   -0.9531 C   0  0  0  0  0  0  0  0  0  0  0  0\\n   -2.8819   -3.7267    0.0417 C   0  0  0  0  0  0  0  0  0  0  0  0\\n   -2.6451   -2.4014    0.3630 C   0  0  0  0  0  0  0  0  0  0  0  0\\n    2.0778   -0.2192    0.6987 N   0  0  0  0  0  0  0  0  0  0  0  0\\n    2.4437    0.0245   -0.5847 C   0  0  0  0  0  0  0  0  0  0  0  0\\n    1.7612   -0.5468   -1.5805 N   0  0  0  0  0  0  0  0  0  0  0  0\\n    2.1603   -0.3547   -2.8327 C   0  0  0  0  0  0  0  0  0  0  0  0\\n    3.1713    0.3563   -3.2735 N   0  0  0  0  0  0  0  0  0  0  0  0\\n    3.8802    0.9421   -2.2997 C   0  0  0  0  0  0  0  0  0  0  0  0\\n    3.5575    0.8021   -0.9283 C   0  0  0  0  0  0  0  0  0  0  0  0\\n    4.5025    1.5362   -0.2589 N   0  0  0  0  0  0  0  0  0  0  0  0\\n    5.3130    2.0584   -1.2110 C   0  0  0  0  0  0  0  0  0  0  0  0\\n    4.9818    1.7357   -2.4293 N   0  0  0  0  0  0  0  0  0  0  0  0\\n    2.3899    0.4512    1.3869 H   0  0  0  0  0  0  0  0  0  0  0  0\\n    4.5952    1.6565    0.7374 H   0  0  0  0  0  0  0  0  0  0  0  0\\n  1  2  1  0\\n  3  2  1  1\\n  3  4  1  0\\n  4  5  2  0\\n  5  6  1  0\\n  6  7  2  0\\n  7  8  1  0\\n  8  9  2  0\\n  9 10  1  0\\n 10 11  2  0\\n  8 12  1  0\\n  7 13  1  0\\n 13 14  2  0\\n 13 15  1  0\\n 15 16  1  0\\n 16 17  2  0\\n 17 18  1  0\\n 18 19  2  0\\n 19 20  1  0\\n 20 21  2  0\\n  3 22  1  0\\n 22 23  1  0\\n 23 24  2  0\\n 24 25  1  0\\n 25 26  2  0\\n 26 27  1  0\\n 27 28  2  0\\n 28 29  1  0\\n 29 30  1  0\\n 30 31  2  0\\n 15  4  1  0\\n 11  6  1  0\\n 21 16  1  0\\n 28 23  1  0\\n 31 27  1  0\\n 22 32  1  0\\n 29 33  1  0\\nM  END\\n\");\nviewer_1652417439633506.setStyle({\"stick\": {\"colorscheme\": \"grayCarbon\"}});\nviewer_1652417439633506.zoomTo();\nviewer_1652417439633506.render();\n});\n</script>",
      "text/html": [
       "<div id=\"3dmolviewer_1652417439633506\"  style=\"position: relative; width: 640px; height: 480px\">\n",
       "        <p id=\"3dmolwarning_1652417439633506\" style=\"background-color:#ffcccc;color:black\">You appear to be running in JupyterLab (or JavaScript failed to load for some other reason).  You need to install the 3dmol extension: <br>\n",
       "        <tt>jupyter labextension install jupyterlab_3dmol</tt></p>\n",
       "        </div>\n",
       "<script>\n",
       "\n",
       "var loadScriptAsync = function(uri){\n",
       "  return new Promise((resolve, reject) => {\n",
       "    var tag = document.createElement('script');\n",
       "    tag.src = uri;\n",
       "    tag.async = true;\n",
       "    tag.onload = () => {\n",
       "      resolve();\n",
       "    };\n",
       "  var firstScriptTag = document.getElementsByTagName('script')[0];\n",
       "  firstScriptTag.parentNode.insertBefore(tag, firstScriptTag);\n",
       "});\n",
       "};\n",
       "\n",
       "if(typeof $3Dmolpromise === 'undefined') {\n",
       "$3Dmolpromise = null;\n",
       "  $3Dmolpromise = loadScriptAsync('https://3dmol.org/build/3Dmol.js');\n",
       "}\n",
       "\n",
       "var viewer_1652417439633506 = null;\n",
       "var warn = document.getElementById(\"3dmolwarning_1652417439633506\");\n",
       "if(warn) {\n",
       "    warn.parentNode.removeChild(warn);\n",
       "}\n",
       "$3Dmolpromise.then(function() {\n",
       "viewer_1652417439633506 = $3Dmol.createViewer($(\"#3dmolviewer_1652417439633506\"),{backgroundColor:\"white\"});\n",
       "viewer_1652417439633506.addModel(\"\\n     RDKit          3D\\n\\n 33 37  0  0  0  0  0  0  0  0999 V2000\\n   -0.4995   -1.8559    2.9466 C   0  0  0  0  0  0  0  0  0  0  0  0\\n    0.7598   -1.1187    2.5133 C   0  0  0  0  0  0  0  0  0  0  0  0\\n    0.7969   -0.8262    1.0066 C   0  0  0  0  0  0  0  0  0  0  0  0\\n   -0.3090    0.1330    0.6137 C   0  0  0  0  0  0  0  0  0  0  0  0\\n   -0.1001    1.3688    0.9073 N   0  0  0  0  0  0  0  0  0  0  0  0\\n   -1.0354    2.3086    0.5912 C   0  0  0  0  0  0  0  0  0  0  0  0\\n   -2.2291    1.9466   -0.0660 C   0  0  0  0  0  0  0  0  0  0  0  0\\n   -3.1445    2.9622   -0.3630 C   0  0  0  0  0  0  0  0  0  0  0  0\\n   -2.9097    4.2759   -0.0292 C   0  0  0  0  0  0  0  0  0  0  0  0\\n   -1.7244    4.6113    0.6225 C   0  0  0  0  0  0  0  0  0  0  0  0\\n   -0.7959    3.6455    0.9309 C   0  0  0  0  0  0  0  0  0  0  0  0\\n   -4.3040    2.6614   -0.9909 F   0  0  0  0  0  0  0  0  0  0  0  0\\n   -2.4577    0.5499   -0.4077 C   0  0  0  0  0  0  0  0  0  0  0  0\\n   -3.4356    0.1169   -0.9980 O   0  0  0  0  0  0  0  0  0  0  0  0\\n   -1.4400   -0.3187   -0.0017 N   0  0  0  0  0  0  0  0  0  0  0  0\\n   -1.6575   -1.7021   -0.3142 C   0  0  0  0  0  0  0  0  0  0  0  0\\n   -0.9255   -2.3079   -1.3248 C   0  0  0  0  0  0  0  0  0  0  0  0\\n   -1.1685   -3.6349   -1.6349 C   0  0  0  0  0  0  0  0  0  0  0  0\\n   -2.1430   -4.3447   -0.9531 C   0  0  0  0  0  0  0  0  0  0  0  0\\n   -2.8819   -3.7267    0.0417 C   0  0  0  0  0  0  0  0  0  0  0  0\\n   -2.6451   -2.4014    0.3630 C   0  0  0  0  0  0  0  0  0  0  0  0\\n    2.0778   -0.2192    0.6987 N   0  0  0  0  0  0  0  0  0  0  0  0\\n    2.4437    0.0245   -0.5847 C   0  0  0  0  0  0  0  0  0  0  0  0\\n    1.7612   -0.5468   -1.5805 N   0  0  0  0  0  0  0  0  0  0  0  0\\n    2.1603   -0.3547   -2.8327 C   0  0  0  0  0  0  0  0  0  0  0  0\\n    3.1713    0.3563   -3.2735 N   0  0  0  0  0  0  0  0  0  0  0  0\\n    3.8802    0.9421   -2.2997 C   0  0  0  0  0  0  0  0  0  0  0  0\\n    3.5575    0.8021   -0.9283 C   0  0  0  0  0  0  0  0  0  0  0  0\\n    4.5025    1.5362   -0.2589 N   0  0  0  0  0  0  0  0  0  0  0  0\\n    5.3130    2.0584   -1.2110 C   0  0  0  0  0  0  0  0  0  0  0  0\\n    4.9818    1.7357   -2.4293 N   0  0  0  0  0  0  0  0  0  0  0  0\\n    2.3899    0.4512    1.3869 H   0  0  0  0  0  0  0  0  0  0  0  0\\n    4.5952    1.6565    0.7374 H   0  0  0  0  0  0  0  0  0  0  0  0\\n  1  2  1  0\\n  3  2  1  1\\n  3  4  1  0\\n  4  5  2  0\\n  5  6  1  0\\n  6  7  2  0\\n  7  8  1  0\\n  8  9  2  0\\n  9 10  1  0\\n 10 11  2  0\\n  8 12  1  0\\n  7 13  1  0\\n 13 14  2  0\\n 13 15  1  0\\n 15 16  1  0\\n 16 17  2  0\\n 17 18  1  0\\n 18 19  2  0\\n 19 20  1  0\\n 20 21  2  0\\n  3 22  1  0\\n 22 23  1  0\\n 23 24  2  0\\n 24 25  1  0\\n 25 26  2  0\\n 26 27  1  0\\n 27 28  2  0\\n 28 29  1  0\\n 29 30  1  0\\n 30 31  2  0\\n 15  4  1  0\\n 11  6  1  0\\n 21 16  1  0\\n 28 23  1  0\\n 31 27  1  0\\n 22 32  1  0\\n 29 33  1  0\\nM  END\\n\");\n",
       "viewer_1652417439633506.setStyle({\"stick\": {\"colorscheme\": \"grayCarbon\"}});\n",
       "viewer_1652417439633506.zoomTo();\n",
       "viewer_1652417439633506.render();\n",
       "});\n",
       "</script>"
      ]
     },
     "metadata": {},
     "output_type": "display_data"
    }
   ],
   "source": [
    "smi = 'CC[C@@H](C1=NC2=C(C(=CC=C2)F)C(=O)N1C3=CC=CC=C3)NC4=NC=NC5=C4NC=N5'\n",
    "mol = Chem.MolFromSmiles(smi)\n",
    "display(mol)\n",
    "\n",
    "mol_mmff = utils.get_low_energy_conformer(mol)\n",
    "utils.display_3d_mol(mol_mmff)\n",
    "\n",
    "mol_xtb = utils.xtb_geom_opt(mol_mmff)\n",
    "utils.display_3d_mol(mol_xtb)"
   ]
  },
  {
   "cell_type": "code",
   "execution_count": 8,
   "metadata": {},
   "outputs": [
    {
     "data": {
      "text/plain": [
       "0.4772782505444216"
      ]
     },
     "execution_count": 8,
     "metadata": {},
     "output_type": "execute_result"
    }
   ],
   "source": [
    "Chem.rdMolAlign.CalcRMS(mol_mmff, mol_xtb)"
   ]
  },
  {
   "cell_type": "code",
   "execution_count": null,
   "metadata": {},
   "outputs": [],
   "source": [
    "def get_low_energy_conformer(input_mol: Chem.rdchem.Mol, \n",
    "                             max_iters: int = 200,\n",
    "                             xtb_refine: bool = False) -> Chem.rdchem.Mol:\n",
    "    \"\"\"Obtain the lowest energy conformer.\n",
    "    \n",
    "    Finds the MMFF low-energy conformer. It generates n conformers, where n \n",
    "    depends on the number of rotatable bonds. Then the conformers are optimized\n",
    "    with the MMFF forcefield. Finally, the lowest energy conformer is returned.\n",
    "    Will raise error if the number of rotatable bonds is greater than 10.\n",
    "\n",
    "    Examples\n",
    "    --------\n",
    "    mol = Chem.MolFromSmiles('OCCCO')\n",
    "    low_e_mol = get_low_energy_conformer(mol)\n",
    "\n",
    "    Parameters\n",
    "    ----------\n",
    "    input_mol: `rdkit.Chem.rdchem.Mol`\n",
    "        The input RDKit mol object. \n",
    "    max_iters: `int`, default = 200\n",
    "        The number of iterations allowed for the MMFF optimization.\n",
    "\n",
    "    Returns\n",
    "    -------\n",
    "    `rdkit.Chem.rdchem.Mol`\n",
    "        An RDKit Mol object embedded with the (hopefully) lowest energy\n",
    "        conformer\"\"\"\n",
    "    # Make a copy of input mol. Second argument indicates a quickCopy, where \n",
    "    #  properties and conformers are not copied.\n",
    "    mol = Chem.rdchem.Mol(input_mol, True)\n",
    "    mol = Chem.AddHs(mol)\n",
    "    low_e_mol = Chem.rdchem.Mol(mol, True)\n",
    "\n",
    "    # Use the number of rotatable bonds to determine the number of conformers to\n",
    "    #  generate. Raise ValueError if number of rotatable bonds is too high. \n",
    "    #  See https://doi.org/10.1021/ci400020a for further details.\n",
    "    n_rot_bonds = rdMolDescriptors.CalcNumRotatableBonds(mol)\n",
    "    if n_rot_bonds <= 6:\n",
    "        rdDistGeom.EmbedMultipleConfs(mol, numConfs=50, pruneRmsThresh=0.5)\n",
    "    elif n_rot_bonds > 6 and n_rot_bonds <=10:\n",
    "        rdDistGeom.EmbedMultipleConfs(mol, numConfs=200, pruneRmsThresh=0.5)\n",
    "    else:\n",
    "        raise ValueError('Too many rotatable bonds.')\n",
    "\n",
    "    # Optimize all conformers embeded in mol.\n",
    "    opt = AllChem.MMFFOptimizeMoleculeConfs(mol, maxIters=max_iters)\n",
    "\n",
    "    xtb_energies = None\n",
    "    if xtb_refine:\n",
    "        xtb_energies = []\n",
    "        for i in range(len(opt)):\n",
    "            # TODO get list of xtb energies for conformers \n",
    "\n",
    "    # Find the index of lowest energy conformer.\n",
    "    energy = 1000.0\n",
    "    index = 0\n",
    "    for i, o in enumerate(opt):\n",
    "        # o is a tuple where o[0] = 0 if optimization converged and 1 if not. \n",
    "        #  o[1] is the energy of the final structure.\n",
    "        if o[0] != 0:\n",
    "            print(f'Conformer {i} failed to converge.')\n",
    "        else:\n",
    "            if o[1] < energy:\n",
    "                energy = o[1]\n",
    "                index = i\n",
    "\n",
    "    # Add the lowest energy found conformer to low_e_mol and return it.\n",
    "    low_e_mol.AddConformer(mol.GetConformer(index))\n",
    "    return low_e_mol"
   ]
  }
 ],
 "metadata": {
  "interpreter": {
   "hash": "545e036c4b32438aced1f6b3c8d38ca151d9c36189e05839cb0aa568fda70ddd"
  },
  "kernelspec": {
   "display_name": "Python ('torch')",
   "language": "python",
   "name": "python3"
  },
  "language_info": {
   "codemirror_mode": {
    "name": "ipython",
    "version": 3
   },
   "file_extension": ".py",
   "mimetype": "text/x-python",
   "name": "python",
   "nbconvert_exporter": "python",
   "pygments_lexer": "ipython3",
   "version": "3.10.4"
  },
  "orig_nbformat": 4
 },
 "nbformat": 4,
 "nbformat_minor": 2
}
