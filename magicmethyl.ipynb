{
 "cells": [
  {
   "cell_type": "code",
   "execution_count": 1,
   "metadata": {},
   "outputs": [],
   "source": [
    "from rdkit import Chem"
   ]
  },
  {
   "cell_type": "code",
   "execution_count": 8,
   "metadata": {},
   "outputs": [],
   "source": [
    "def generator(smi: str) -> list[str]:\n",
    "    \"\"\"docstring\"\"\"\n",
    "    mol = Chem.MolFromSmiles(smi)\n",
    "    mol = Chem.AddHs(mol)\n",
    "    for atom in mol.GetAtoms():\n",
    "        if atom.GetSymbol() != 'H':\n",
    "            pass\n",
    "        else:\n",
    "            rwmol = Chem.RWMol(mol)\n",
    "            # create util function to add methyl \n",
    "    return ['']"
   ]
  },
  {
   "cell_type": "code",
   "execution_count": 9,
   "metadata": {},
   "outputs": [
    {
     "name": "stdout",
     "output_type": "stream",
     "text": [
      "C\n",
      "C\n",
      "C\n",
      "C\n",
      "C\n",
      "C\n",
      "H\n",
      "meep\n",
      "H\n",
      "meep\n",
      "H\n",
      "meep\n",
      "H\n",
      "meep\n",
      "H\n",
      "meep\n",
      "H\n",
      "meep\n",
      "['']\n"
     ]
    }
   ],
   "source": [
    "methyls = generator('c1ccccc1')\n",
    "print(methyls)"
   ]
  }
 ],
 "metadata": {
  "interpreter": {
   "hash": "8afad45e16121f323f1e55c34364f122e7f25a4eeb304f06ad75a2720eb571aa"
  },
  "kernelspec": {
   "display_name": "Python 3.9.7 ('magicmethyl')",
   "language": "python",
   "name": "python3"
  },
  "language_info": {
   "codemirror_mode": {
    "name": "ipython",
    "version": 3
   },
   "file_extension": ".py",
   "mimetype": "text/x-python",
   "name": "python",
   "nbconvert_exporter": "python",
   "pygments_lexer": "ipython3",
   "version": "3.9.7"
  },
  "orig_nbformat": 4
 },
 "nbformat": 4,
 "nbformat_minor": 2
}
